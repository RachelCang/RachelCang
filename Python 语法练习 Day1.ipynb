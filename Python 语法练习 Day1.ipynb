{
 "cells": [
  {
   "cell_type": "code",
   "execution_count": 1,
   "id": "b241f647",
   "metadata": {},
   "outputs": [
    {
     "name": "stdout",
     "output_type": "stream",
     "text": [
      "hello world\n"
     ]
    }
   ],
   "source": [
    "print ('hello world')"
   ]
  },
  {
   "cell_type": "markdown",
   "id": "d0026a4b",
   "metadata": {},
   "source": [
    "### 按 Shift + Enter 运行代码\n",
    "### 按下m键，可以将代码单元格转换为Markdown单元格\n",
    "### 按y键可以将Markdown单元格转换为代码单元格"
   ]
  },
  {
   "cell_type": "markdown",
   "id": "4262f7a7",
   "metadata": {},
   "source": [
    "### 冒号与缩进\n",
    ">当语句以冒号: 结尾时，缩进的语句视为代码块。<br>\n",
    "\n",
    "### 换行\n",
    ">使用 \" <p>或<br>、<br />、<br/>，其中<p>的行距会比<br>的行距大 \"\n"
   ]
  },
  {
   "cell_type": "code",
   "execution_count": 4,
   "id": "ea7f922f",
   "metadata": {},
   "outputs": [
    {
     "name": "stdout",
     "output_type": "stream",
     "text": [
      "100\n"
     ]
    }
   ],
   "source": [
    "a=100\n",
    "if a>0:\n",
    "    print(a)\n",
    "else:\n",
    "    print(-a)"
   ]
  },
  {
   "cell_type": "markdown",
   "id": "d3d96dcd",
   "metadata": {},
   "source": [
    "### 字符串"
   ]
  },
  {
   "cell_type": "code",
   "execution_count": 6,
   "id": "d808d279",
   "metadata": {},
   "outputs": [
    {
     "name": "stdout",
     "output_type": "stream",
     "text": [
      "I'm ok\n"
     ]
    }
   ],
   "source": [
    "s=\"I'm ok\"\n",
    "print (s)"
   ]
  },
  {
   "cell_type": "code",
   "execution_count": 7,
   "id": "1356546d",
   "metadata": {
    "scrolled": true
   },
   "outputs": [
    {
     "name": "stdout",
     "output_type": "stream",
     "text": [
      "I'm ok\n"
     ]
    }
   ],
   "source": [
    "s='I\\'m ok'\n",
    "print (s)"
   ]
  },
  {
   "cell_type": "markdown",
   "id": "e984c497",
   "metadata": {},
   "source": [
    "### 字符串也可以加减乘除\n",
    ">[start:end:step] start是起始位值，包含在内，可以省略，省略时默索引为0；end是结束位，其值不包含在内，可以省略，但是其前面和start分隔的冒号，在省略了其它所有参数的时候是不可省略的；step是步长，可以省略，省略时默认步长为1"
   ]
  },
  {
   "cell_type": "code",
   "execution_count": 6,
   "id": "ac2ddc66",
   "metadata": {},
   "outputs": [
    {
     "name": "stdout",
     "output_type": "stream",
     "text": [
      "Hello Wo\n"
     ]
    }
   ],
   "source": [
    "strPython=\"Hello World!\"\n",
    "s1=strPython[0:8]\n",
    "print(s1)"
   ]
  },
  {
   "cell_type": "markdown",
   "id": "ca92d738",
   "metadata": {},
   "source": [
    "### 字符串的格式化 用%实现\n",
    "常用占位符<p>\n",
    "%d  整数<p>\n",
    "%f  浮点数h<p>\n",
    "%s  字符串<p>\n",
    "%x  十六进制整数"
   ]
  },
  {
   "cell_type": "code",
   "execution_count": 7,
   "id": "67385fb3",
   "metadata": {},
   "outputs": [
    {
     "name": "stdout",
     "output_type": "stream",
     "text": [
      "I'm 18 years old\n"
     ]
    }
   ],
   "source": [
    "x=18\n",
    "print (\"I'm %d years old\" % (x))"
   ]
  },
  {
   "cell_type": "markdown",
   "id": "90977c6d",
   "metadata": {},
   "source": [
    "### 循环\n",
    "1. for…in 循环"
   ]
  },
  {
   "cell_type": "code",
   "execution_count": 8,
   "id": "6ba47382",
   "metadata": {},
   "outputs": [
    {
     "name": "stdout",
     "output_type": "stream",
     "text": [
      "1\n",
      "4\n",
      "9\n",
      "16\n",
      "25\n",
      "36\n"
     ]
    }
   ],
   "source": [
    "x=[1,2,3,4,5,6]\n",
    "for item in x:\n",
    "    print(item**2)"
   ]
  },
  {
   "cell_type": "markdown",
   "id": "58053382",
   "metadata": {},
   "source": [
    "2. while 循环，只要条件满足，就不断循环，条件不满足时退出循环"
   ]
  },
  {
   "cell_type": "code",
   "execution_count": 9,
   "id": "5a0a75d8",
   "metadata": {},
   "outputs": [
    {
     "name": "stdout",
     "output_type": "stream",
     "text": [
      "2500\n"
     ]
    }
   ],
   "source": [
    "sum=0\n",
    "n=99\n",
    "while n>0:\n",
    "    sum=sum+n\n",
    "    n=n-2\n",
    "print (sum)"
   ]
  },
  {
   "cell_type": "code",
   "execution_count": 24,
   "id": "2bad14c8",
   "metadata": {},
   "outputs": [
    {
     "name": "stdout",
     "output_type": "stream",
     "text": [
      "1 A 移到 B\n",
      "2 A 移到 C\n",
      "1 B 移到 C\n",
      "3 A 移到 B\n",
      "1 C 移到 A\n",
      "2 C 移到 B\n",
      "1 A 移到 B\n",
      "4 A 移到 C\n",
      "1 B 移到 C\n",
      "2 B 移到 A\n",
      "1 C 移到 A\n",
      "3 B 移到 C\n",
      "1 A 移到 B\n",
      "2 A 移到 C\n",
      "1 B 移到 C\n"
     ]
    }
   ],
   "source": [
    "# 汉诺塔问题练习\n",
    "def hanmove(n,origion,temp,destination):\n",
    "    if n==1:\n",
    "        print(n,origion,'移到',destination)\n",
    "    else:\n",
    "        hanmove(n-1,origion,destination,temp)\n",
    "        print(n,origion,'移到',destination)\n",
    "        hanmove(n-1,temp,origion,destination)\n",
    "\n",
    "hanmove(4,'A','B','C')"
   ]
  },
  {
   "cell_type": "markdown",
   "id": "cc4bcda5",
   "metadata": {},
   "source": [
    "# 练习"
   ]
  },
  {
   "cell_type": "code",
   "execution_count": 6,
   "id": "d46aff22",
   "metadata": {},
   "outputs": [
    {
     "name": "stdout",
     "output_type": "stream",
     "text": [
      "2 2\n",
      "2 1\n",
      "2 1\n"
     ]
    }
   ],
   "source": [
    "# 变量值的交换\n",
    "x=1\n",
    "y=2\n",
    "x=y\n",
    "y=x\n",
    "print(x,y)\n",
    "#x,y没有变换成功，x变成了y\n",
    "\n",
    "#加入temp变量\n",
    "x=1\n",
    "y=2\n",
    "temp=x\n",
    "x=y\n",
    "y=temp\n",
    "print(x,y)\n",
    "\n",
    "# 以上比较麻烦，可以采用平行赋值\n",
    "x=1\n",
    "y=2\n",
    "x,y=y,x\n",
    "print(x,y)"
   ]
  },
  {
   "cell_type": "code",
   "execution_count": 14,
   "id": "dc225d10",
   "metadata": {},
   "outputs": [
    {
     "name": "stdout",
     "output_type": "stream",
     "text": [
      "<class 'NoneType'> <class 'str'>\n"
     ]
    }
   ],
   "source": [
    "#2) None\n",
    "# python中内置的常量，表示变量值的缺失\n",
    "a=None\n",
    "b=\"\"  # None和\"\"不是一个概念,一个是NoneType,一个是str\n",
    "\n",
    "# type()可以显示一个对象的类型\n",
    "print(type(a),type(b))"
   ]
  },
  {
   "cell_type": "code",
   "execution_count": 19,
   "id": "50a56047",
   "metadata": {},
   "outputs": [
    {
     "name": "stdout",
     "output_type": "stream",
     "text": [
      "1\n",
      "hello 2\n",
      "hello worldhello world\n",
      "x---->y---->z\n"
     ]
    }
   ],
   "source": [
    "# 10. 输入输出\n",
    "# (1) 输出\n",
    "# print 是python的内置方法\n",
    "# print()方法\n",
    "# end默认以\\n结尾，表示换行\n",
    "# sep=默认\" \"，即用空格隔开字符，可以修改为自己想要的分隔符\n",
    "\n",
    "print(1)\n",
    "print(\"hello\",2)\n",
    "print(\"hello world\",end=\"\")\n",
    "print(\"hello world\")\n",
    "print(\"x\",\"y\",\"z\",sep=\"---->\")"
   ]
  },
  {
   "cell_type": "code",
   "execution_count": 17,
   "id": "d915814d",
   "metadata": {},
   "outputs": [
    {
     "name": "stdout",
     "output_type": "stream",
     "text": [
      "请输入你的名字han\n",
      "刚刚输入的名字:han\n"
     ]
    }
   ],
   "source": [
    "# （2）输入\n",
    "# input的返回值是字符串,绑定到一个值（比如 name）上\n",
    "name=input(\"请输入你的名字\")\n",
    "print(\"刚刚输入的名字\",name,sep=\":\")"
   ]
  },
  {
   "cell_type": "code",
   "execution_count": null,
   "id": "4629bdf7",
   "metadata": {},
   "outputs": [],
   "source": [
    "# 12. 标识符\n",
    "# 标识符：变量名，类名、方法名\n",
    "# 规则\n",
    "# （1）字符、数字_  ，不能以数字开头\n",
    "# （2）一定不是是python的关键字\n",
    "# （3）标识符区分大小写\n",
    "# （4）一般不以@  $  *这些字符\n",
    "\n",
    "\n",
    "# 13. 关键字: python中具有特殊意义的符号\n",
    "import  keyword\n",
    "keyword.kwlist"
   ]
  },
  {
   "cell_type": "code",
   "execution_count": 29,
   "id": "c7ff5025",
   "metadata": {},
   "outputs": [
    {
     "name": "stdout",
     "output_type": "stream",
     "text": [
      "2460374531792 2460374531840\n",
      "[1, 2, 3]\n",
      "1 2 3\n"
     ]
    }
   ],
   "source": [
    "b1=b\"dd\"\n",
    "b2=b\"dd\"\n",
    "print(id(b1),id(b2))\n",
    "print([1,2,3])\n",
    "print(1,2,3)\n",
    "\n",
    "#id(object)返回的是对象的“身份证号”，唯一且不变，但在不重合的生命周期里，可能会出现相同的id值。\n",
    "#此处所说的对象应该特指复合类型的对象(如类、list等)，对于字符串、整数等类型，变量的id是随值的改变而改变的。"
   ]
  },
  {
   "cell_type": "code",
   "execution_count": null,
   "id": "bb833e96",
   "metadata": {},
   "outputs": [],
   "source": [
    "\"\"\"\n",
    "第二章  数据类型\n",
    "\"\"\"\n",
    "\"\"\"\n",
    "数值：整数  浮点 复数\n",
    "布尔：整型的子类型\n",
    "序列：列表、字符串、元组、字节\n",
    "映射：字典\n",
    "集合：集合\n",
    "\"\"\""
   ]
  },
  {
   "cell_type": "code",
   "execution_count": 34,
   "id": "73431eba",
   "metadata": {},
   "outputs": [
    {
     "name": "stdout",
     "output_type": "stream",
     "text": [
      "<class 'int'>\n",
      "<class 'int'>\n"
     ]
    }
   ],
   "source": [
    "# 数值类型\n",
    "# 一. 整数类型 int\n",
    "# 定义 ： 变量名=整数,正负都可以\n",
    "a=1\n",
    "print(type(a))\n",
    "b=-50\n",
    "print(type(b))"
   ]
  },
  {
   "cell_type": "code",
   "execution_count": 33,
   "id": "3b01a861",
   "metadata": {},
   "outputs": [
    {
     "name": "stdout",
     "output_type": "stream",
     "text": [
      "9223372036854775807\n"
     ]
    }
   ],
   "source": [
    "# 取值范围\n",
    "\"\"\"\n",
    "python其实整型、长整型\n",
    "2x 存在整型和长整型，int  long  超过32位需要使用long存储\n",
    "3x 超过32位自动转成长整型存储\n",
    "整型最大值：取决于操作系统\n",
    "\"\"\"\n",
    "import sys\n",
    "print(sys.maxsize)"
   ]
  },
  {
   "cell_type": "code",
   "execution_count": 62,
   "id": "47b19dde",
   "metadata": {},
   "outputs": [
    {
     "name": "stdout",
     "output_type": "stream",
     "text": [
      "10\n",
      "2\n",
      "<class 'int'>\n",
      "513\n",
      "15\n"
     ]
    }
   ],
   "source": [
    "# 四种进制：二进制、八进制、十进制、十六进制\n",
    "# 当定义整型时，默认使用十进制\n",
    "int=10  \n",
    "print(int)\n",
    "\n",
    "# 二进制：前缀0b或者0B\n",
    "int=0b10\n",
    "print(int)\n",
    "print(type(int))\n",
    "\n",
    "# 八进制：前缀0o或0O\n",
    "int=0o10\n",
    "int=0o1001\n",
    "print(int)\n",
    "\n",
    "# 十六进制：前缀0x或0X\n",
    "int=0x1001\n",
    "int=0xa\n",
    "int=0xf\n",
    "print(int)"
   ]
  },
  {
   "cell_type": "code",
   "execution_count": 43,
   "id": "5715ad77",
   "metadata": {},
   "outputs": [
    {
     "name": "stdout",
     "output_type": "stream",
     "text": [
      "9\n"
     ]
    }
   ],
   "source": [
    "# 四种进制之间的转换\n",
    "# 1.十进制转成其他进制:下除取余，取的时候，从底向上\n",
    "a=10\n",
    "\n",
    "# 2. 其他进制转成十进制：乘幂\n",
    "b=0b1001\n",
    "print(1*2**3+0*2**2+0*2**1+1*2**0)\n",
    "\n",
    "\n",
    "# 3. 二进制和八进制、二进制和十六进制\n",
    "# 二进制--八进制  3位一转\n",
    "b=0b1001\n",
    "# 11\n",
    "\n",
    "# 二进制--十六进制  4位一转\n",
    "b=0b10011\n",
    "# 13\n",
    "\n"
   ]
  },
  {
   "cell_type": "code",
   "execution_count": 60,
   "id": "f9bea8cd",
   "metadata": {},
   "outputs": [
    {
     "name": "stdout",
     "output_type": "stream",
     "text": [
      "0b10100\n",
      "0b10000\n",
      "0b100000\n"
     ]
    }
   ],
   "source": [
    "# bin()  转换成二进制\n",
    "# int() 转成十进制\n",
    "# oct() 转成八进制\n",
    "# hex()转成十六进制\n",
    "print(bin(20))\n",
    "print(bin(0o20))\n",
    "print(bin(0x20))"
   ]
  },
  {
   "cell_type": "code",
   "execution_count": 68,
   "id": "c161896f",
   "metadata": {},
   "outputs": [
    {
     "ename": "NameError",
     "evalue": "name 'torch' is not defined",
     "output_type": "error",
     "traceback": [
      "\u001b[1;31m---------------------------------------------------------------------------\u001b[0m",
      "\u001b[1;31mNameError\u001b[0m                                 Traceback (most recent call last)",
      "Input \u001b[1;32mIn [68]\u001b[0m, in \u001b[0;36m<cell line: 1>\u001b[1;34m()\u001b[0m\n\u001b[1;32m----> 1\u001b[0m a \u001b[38;5;241m=\u001b[39m \u001b[43mtorch\u001b[49m\u001b[38;5;241m.\u001b[39mtensor(a)\n\u001b[0;32m      2\u001b[0m a\u001b[38;5;241m=\u001b[39m\u001b[38;5;241m888\u001b[39m\n\u001b[0;32m      3\u001b[0m \u001b[38;5;28mprint\u001b[39m(\u001b[38;5;28mtype\u001b[39m(\u001b[38;5;28mint\u001b[39m(a)))\n",
      "\u001b[1;31mNameError\u001b[0m: name 'torch' is not defined"
     ]
    }
   ],
   "source": [
    "a = torch.tensor(a)\n",
    "a=888\n",
    "print(type(int(a)))\n",
    "\n",
    "# oct  bin  hex会将数值类型转换成字符串\n",
    "\n",
    "print(type(oct(a)))\n",
    "print(type(bin(a)))\n",
    "print(type(hex(a)))\n",
    "\n",
    "# print(oct(10)+1)\n",
    "# print(int(10)+1)\n",
    "\n",
    "# int\n",
    "# print int 默认是十进制，如果在逗号后面指定了进制，\n",
    "#    那么会按照进制将字符串转换成数值\n",
    "print(int(\"100\"))\n",
    "print(int(\"100\",2))"
   ]
  },
  {
   "cell_type": "code",
   "execution_count": 67,
   "id": "028df86a",
   "metadata": {},
   "outputs": [
    {
     "name": "stdout",
     "output_type": "stream",
     "text": [
      "2\n",
      "True\n"
     ]
    }
   ],
   "source": [
    "# 二、布尔类型\n",
    "# 布尔类型是整数类型的子类型\n",
    "# True真----1   False假 ----0\n",
    "t=True\n",
    "print(t+1)  # 尽量不这样使用\n",
    "\n",
    "# 布尔类型或者作为返回值，或者作为逻辑运算符两侧的值\n",
    "print(3<5)"
   ]
  },
  {
   "cell_type": "code",
   "execution_count": 48,
   "id": "1844621a",
   "metadata": {},
   "outputs": [
    {
     "name": "stdout",
     "output_type": "stream",
     "text": [
      "<class 'float'>\n"
     ]
    }
   ],
   "source": [
    "# 三、浮点数 float\n",
    "# 小数   浮点类型只支持十进制\n",
    "# 1. 定义\n",
    "# 变量名=小数\n",
    "f=0.3\n",
    "f=01.3 # 浮点类型首位可以是0\n",
    "# i=03\n",
    "print(type(f))"
   ]
  },
  {
   "cell_type": "code",
   "execution_count": 49,
   "id": "99198d95",
   "metadata": {},
   "outputs": [
    {
     "name": "stdout",
     "output_type": "stream",
     "text": [
      "120000000.0\n",
      "1.2e-08\n"
     ]
    }
   ],
   "source": [
    "# 2. 科学计数法\n",
    "print(1.2e8)\n",
    "print(1.2e-8)"
   ]
  },
  {
   "cell_type": "code",
   "execution_count": null,
   "id": "ebcb0ffd",
   "metadata": {},
   "outputs": [],
   "source": [
    "# 3.取值：有界限\n",
    "print(1e2000)\n",
    "import sys\n",
    "print(sys.float_info.max)\n",
    "print(sys.float_info.min)"
   ]
  },
  {
   "cell_type": "code",
   "execution_count": 50,
   "id": "609695d4",
   "metadata": {},
   "outputs": [
    {
     "name": "stdout",
     "output_type": "stream",
     "text": [
      "nan\n",
      "inf\n",
      "False\n",
      "False\n",
      "True\n"
     ]
    }
   ],
   "source": [
    "# 4.特殊的浮点数\n",
    "\"\"\"\n",
    "(1) inf  无穷大inf  或者无穷小-inf\n",
    "(2) NaN  not a number \n",
    "\"\"\"\n",
    "print(float(\"Nan\"))\n",
    "print(float(\"inf\"))\n",
    "x=float(\"nan\")\n",
    "print(3.0==x)\n",
    "print(x==x)  # nan不是一个数字，自己跟自己也不相等\n",
    "\n",
    "# 判断一个数是不是nan？\n",
    "import math\n",
    "print(math.isnan(x))"
   ]
  },
  {
   "cell_type": "code",
   "execution_count": 69,
   "id": "799086ba",
   "metadata": {},
   "outputs": [
    {
     "name": "stdout",
     "output_type": "stream",
     "text": [
      "3.3333333333333335\n",
      "5e+20\n",
      "0.1\n",
      "0.30000000000000004\n"
     ]
    }
   ],
   "source": [
    "# 浮点类型的不精确性\n",
    "# 浮点类型是计算机中近似存储\n",
    "print(10/3)\n",
    "# 小数转换成二进制小数\n",
    "# 规则：小数位*2  ，得到结果取整数位，一直取  ，从上到下\n",
    "# 0.1  *2=  0.2---------0\n",
    "# 0.2  *2=  0.4---------0\n",
    "# 0.4  *2=  0.8---------0\n",
    "# 0.8  *2=  1.6---------1\n",
    "# 0.6  *2=  1.2---------1\n",
    "# 0.2  *2=  0.4---------0\n",
    "#....\n",
    "\n",
    "# 注意\n",
    "#1. 尽量避免数量级相差很大的浮点之间进行计算\n",
    "f1=5e20\n",
    "f2=1\n",
    "print(f1+f2)\n",
    "\n",
    "#2.尽量避免等量运算\n",
    "# 浮点数不精确\n",
    "f1=0.1\n",
    "f2=0.2\n",
    "print(f1)\n",
    "print(f1+f2)"
   ]
  },
  {
   "cell_type": "code",
   "execution_count": 71,
   "id": "83a5b979",
   "metadata": {},
   "outputs": [
    {
     "name": "stdout",
     "output_type": "stream",
     "text": [
      "0.1000000000000000055511151231257827021181583404541015625\n",
      "0.200000000000000011102230246251565404236316680908203125\n",
      "False\n",
      "0.1 0.2\n",
      "0.3\n",
      "False\n",
      "True\n"
     ]
    }
   ],
   "source": [
    "# 解决浮点数的不精确性\n",
    "# 使用  decimal模块\n",
    "import decimal\n",
    "# decimal.Decimal(value)  显示value的真正值\n",
    "x=decimal.Decimal(0.1)\n",
    "y=decimal.Decimal(0.2)\n",
    "print(x)\n",
    "print(y)\n",
    "print(x+y==0.3)\n",
    "\n",
    "x=decimal.Decimal(\"0.1\")\n",
    "y=decimal.Decimal(\"0.2\")\n",
    "z=decimal.Decimal(\"0.3\")\n",
    "print(x,y)\n",
    "print(x+y)\n",
    "print(x+y==0.3)\n",
    "print(x+y==z)"
   ]
  },
  {
   "cell_type": "code",
   "execution_count": 72,
   "id": "905bf418",
   "metadata": {},
   "outputs": [
    {
     "name": "stdout",
     "output_type": "stream",
     "text": [
      "Infinity\n",
      "NaN\n",
      "Infinity\n",
      "NaN\n",
      "0.25\n",
      "0.3000000000\n",
      "0.1000000000000000055511151231257827021181583404541015625 0.200000000000000011102230246251565404236316680908203125\n",
      "0.3000000000\n",
      "0.1000000000000000055511151231257827021181583404541015625 0.200000000000000011102230246251565404236316680908203125\n",
      "<class 'decimal.Decimal'>\n",
      "1.100000000\n"
     ]
    }
   ],
   "source": [
    "# 使用decimal让特殊的浮点类型显示原型\n",
    "# 跟特殊的浮点类型做运算，仍然得到inf 和nan\n",
    "print(decimal.Decimal(\"inf\"))\n",
    "print(decimal.Decimal(\"nan\"))\n",
    "print(decimal.Decimal(\"inf\")+1)\n",
    "print(decimal.Decimal(\"nan\")+1)\n",
    "# 0.25\n",
    "# 0.25 *2=0.5   ---0\n",
    "# 0.5 *2 =1.0   ---1\n",
    "# 0.0 *2 =0     ---0\n",
    "# 0.01\n",
    "print(decimal.Decimal(0.25))\n",
    "\n",
    "f1=0.1\n",
    "f2=0.2\n",
    "print(decimal.Decimal(f1)+decimal.Decimal(f2))\n",
    "# 通过上下文修改有效位数，默认的有效位数是28位\n",
    "context=decimal.getcontext()\n",
    "context.prec=10\n",
    "# 修改的有效位数，必须参数与运行才能有效\n",
    "print(decimal.Decimal(f1),decimal.Decimal(f2))\n",
    "print(decimal.Decimal(f1)+decimal.Decimal(f2))\n",
    "print(decimal.Decimal(f1),decimal.Decimal(f2))\n",
    "\n",
    "f=decimal.Decimal(0.1)\n",
    "print(type(f))\n",
    "# print(f+0.1)\n",
    "print(f+1)"
   ]
  },
  {
   "cell_type": "code",
   "execution_count": 73,
   "id": "c2194cf5",
   "metadata": {},
   "outputs": [
    {
     "name": "stdout",
     "output_type": "stream",
     "text": [
      "<class 'complex'>\n",
      "3.0\n",
      "-5.0\n"
     ]
    }
   ],
   "source": [
    "# 四、复数类型 complex\n",
    "x=3-5j\n",
    "print(type(x))\n",
    "# 实部、虚部都是浮点类型\n",
    "print(x.real)\n",
    "print(x.imag)"
   ]
  },
  {
   "cell_type": "code",
   "execution_count": null,
   "id": "c508ba21",
   "metadata": {},
   "outputs": [],
   "source": [
    "# 四种类型之间的转换\n",
    "# 整数  浮点  复数  布尔\n",
    "\"\"\"\n",
    "int(value):转换整数,如果没有参数，默认返回0\n",
    "float(value):转成浮点数，默认值0.0\n",
    "complex(value):转成复数，默认值0j\n",
    "bool(value):转成布尔类型，默认值False\n",
    "\"\"\"\n",
    "print(int())\n",
    "print(float())\n",
    "print(complex())\n",
    "print(bool())\n",
    "\n",
    "i=2\n",
    "c=1+2j\n",
    "f=-0.9\n",
    "b=True\n",
    "\n",
    "# print(int(c))  # 不能将复数类型转换成整型\n",
    "print(int(f)) # int取整，将小数点后面的值去掉，向0取整\n",
    "print(int(b))\n",
    "\n",
    "print(float(i))\n",
    "# print(float(c))  # 不能将复数类型转换成浮点类型\n",
    "print(float(b))\n",
    "\n",
    "print(bool(i))\n",
    "print(bool(0))\n",
    "print(bool(int()))\n",
    "print(bool(f))\n",
    "print(bool(c))\n",
    "\n",
    "print(complex(i))\n",
    "print(complex(f))\n",
    "print(complex(b))\n",
    "\n",
    "# 如果两种类型做运算，取级别高的类型做结果\n",
    "print(type(i+f))\n",
    "print(type(c+f))\n",
    "print(type(b+i))\n",
    "\n",
    "# 复数>  浮点  >整型 >布尔类型\n",
    "\n",
    "# print(int(\"12\",2))\n",
    "\n",
    "print(bool(\"\"))"
   ]
  },
  {
   "cell_type": "markdown",
   "id": "e56e913c",
   "metadata": {},
   "source": [
    "# 作业\n"
   ]
  },
  {
   "cell_type": "code",
   "execution_count": 1,
   "id": "4ead9dd4",
   "metadata": {},
   "outputs": [
    {
     "name": "stdout",
     "output_type": "stream",
     "text": [
      "abc abc abc\n"
     ]
    }
   ],
   "source": [
    "# 7.\tx=\"abc\"，y=\"def\",y=x ，z=y   输出x和y、z的结果，画出内存图。\n",
    "x=\"abc\"\n",
    "y=\"def\"\n",
    "y=x\n",
    "z=y\n",
    "print(x,y,z)"
   ]
  },
  {
   "cell_type": "code",
   "execution_count": 8,
   "id": "0b0ab2f5",
   "metadata": {},
   "outputs": [
    {
     "name": "stdout",
     "output_type": "stream",
     "text": [
      "输入第一个数：1\n",
      "输入第二个数：2\n",
      "输入第三个数：5\n",
      "输入第四个数：8\n",
      "结果 -37\n"
     ]
    }
   ],
   "source": [
    "# 9.\t输入a,b,c,d4个整数，计算a+b-c*d的结果\n",
    "a=int(input(\"输入第一个数：\"))\n",
    "b=int(input(\"输入第二个数：\"))\n",
    "c=int(input(\"输入第三个数：\"))\n",
    "d=int(input(\"输入第四个数：\"))\n",
    "\n",
    "print(\"结果\",a+b-c*d)"
   ]
  },
  {
   "cell_type": "code",
   "execution_count": 9,
   "id": "577989da",
   "metadata": {},
   "outputs": [
    {
     "name": "stdout",
     "output_type": "stream",
     "text": [
      "3.3333333333333335\n"
     ]
    }
   ],
   "source": [
    "a=10/3\n",
    "print(a)"
   ]
  },
  {
   "cell_type": "code",
   "execution_count": 10,
   "id": "a4f07865",
   "metadata": {},
   "outputs": [
    {
     "name": "stdout",
     "output_type": "stream",
     "text": [
      "123\n",
      "456.789\n",
      "Hello, world\n",
      "Hello, 'Adam'\n",
      "Hello, \"Bart\"\n",
      "Hello,\n",
      "Lisa!\n"
     ]
    }
   ],
   "source": [
    "n = 123\n",
    "f = 456.789\n",
    "s1 = 'Hello, world'\n",
    "s2 = 'Hello, \\'Adam\\''\n",
    "s3 = r'Hello, \"Bart\"'\n",
    "s4 = r'''Hello,\n",
    "Lisa!'''\n",
    "print(n,f,s1,s2,s3,s4,sep=\"\\n\")"
   ]
  },
  {
   "cell_type": "code",
   "execution_count": 11,
   "id": "08b1de2f",
   "metadata": {},
   "outputs": [
    {
     "name": "stdout",
     "output_type": "stream",
     "text": [
      "0.1000000000000000055511151231257827021181583404541015625\n",
      "False\n"
     ]
    }
   ],
   "source": [
    "# 4.\t使用Decimal类计算，输入两个浮点类型，再输入需要保留的有效数字，计算相加结果\n",
    "f1=0.1\n",
    "import decimal #导入 decimal函数现出原形\n",
    "print(decimal.Decimal(f1))\n",
    "# 准确的计算，只能使用字符串\n",
    "x=decimal.Decimal(\"0.1\")\n",
    "y=decimal.Decimal(\"0.2\")\n",
    "print(x+y==0.3)"
   ]
  },
  {
   "cell_type": "code",
   "execution_count": 12,
   "id": "af9836d2",
   "metadata": {},
   "outputs": [
    {
     "name": "stdout",
     "output_type": "stream",
     "text": [
      "0.30\n",
      "3.1\n",
      "1.3000000000000000444089209850062616169452667236328125\n",
      "1.1999999999999999555910790149937383830547332763671875\n"
     ]
    }
   ],
   "source": [
    "# 保留有效数字使用上下文\n",
    "c=decimal.getcontext()\n",
    "c.prec=2 #保留两位有效数字\n",
    "print(decimal.Decimal(0.1)+decimal.Decimal(0.2))\n",
    "print(decimal.Decimal(1.9)+decimal.Decimal(1.2))\n",
    "print(decimal.Decimal(1.3))\n",
    "print(decimal.Decimal(1.2))\n",
    "\n",
    "运算后才会有变化，实际数字不会变"
   ]
  }
 ],
 "metadata": {
  "kernelspec": {
   "display_name": "Python 3 (ipykernel)",
   "language": "python",
   "name": "python3"
  },
  "language_info": {
   "codemirror_mode": {
    "name": "ipython",
    "version": 3
   },
   "file_extension": ".py",
   "mimetype": "text/x-python",
   "name": "python",
   "nbconvert_exporter": "python",
   "pygments_lexer": "ipython3",
   "version": "3.8.13"
  }
 },
 "nbformat": 4,
 "nbformat_minor": 5
}
